{
 "cells": [
  {
   "cell_type": "code",
   "execution_count": 112,
   "metadata": {},
   "outputs": [],
   "source": [
    "import utils\n",
    "import numpy as np\n",
    "import os"
   ]
  },
  {
   "cell_type": "code",
   "execution_count": 114,
   "metadata": {},
   "outputs": [],
   "source": [
    "players_info_list = utils.get_dataframes_csv_file('../scraping/csv/players_infos')\n",
    "players_stats_list = utils.get_dataframes_csv_file('../scraping/csv/players_stats')"
   ]
  },
  {
   "cell_type": "code",
   "execution_count": 115,
   "metadata": {},
   "outputs": [],
   "source": [
    "schedule_df_list = utils.get_dataframes_csv_file('../scraping/csv/schedule' )\n",
    "standing_df_list = utils.get_dataframes_csv_file('../scraping/csv/standing')\n",
    "team_stats_df_list = utils.get_dataframes_csv_file('../scraping/csv/team_stats')\n",
    "team_stats_opponent_df_list = utils.get_dataframes_csv_file('../scraping/csv/team_stats_opponent')\n",
    "team_stats_differential_df_list = utils.get_dataframes_csv_file('../scraping/csv/team_stats_differential')"
   ]
  },
  {
   "cell_type": "markdown",
   "metadata": {},
   "source": [
    "# Players Info"
   ]
  },
  {
   "cell_type": "markdown",
   "metadata": {},
   "source": [
    "Convertir le poid et la taille en kilogramme et en mètre"
   ]
  },
  {
   "cell_type": "code",
   "execution_count": 3,
   "metadata": {},
   "outputs": [],
   "source": [
    "def convert_to_meters(ht : str):\n",
    "    if ht == '' or ht == 0:\n",
    "        return None\n",
    "\n",
    "    feet, inches = ht.split('-')\n",
    "    if(inches == ''):\n",
    "        if(feet == ''):\n",
    "            return None\n",
    "        inches = 0\n",
    "\n",
    "    total_inches = int(feet) * 12 + int(inches)\n",
    "    meters = total_inches * 0.0254\n",
    "    return meters\n",
    "\n",
    "def convert_to_kg(weight_lbs: float):\n",
    "    if isinstance(weight_lbs, str):\n",
    "        if weight_lbs == '-' or weight_lbs == '':\n",
    "            return None\n",
    "        else:\n",
    "            weight_lbs = float(weight_lbs)\n",
    "\n",
    "    if weight_lbs <= 0:\n",
    "        return None\n",
    "\n",
    "    weight_kg = weight_lbs * 0.45359237\n",
    "    return weight_kg\n",
    "\n",
    "for df in players_info_list:\n",
    "    df['HT'] = df['HT'].apply(convert_to_meters)\n",
    "    df['WT'] = df['WT'].apply(convert_to_kg)"
   ]
  },
  {
   "cell_type": "markdown",
   "metadata": {},
   "source": [
    "Supprimer les colonnes Pre-Draft Team et Draft Status"
   ]
  },
  {
   "cell_type": "code",
   "execution_count": 4,
   "metadata": {},
   "outputs": [],
   "source": [
    "for i,df in enumerate(players_info_list):\n",
    "    players_info_list[i]=players_info_list[i].drop('Pre-Draft Team', axis=1)\n",
    "    players_info_list[i]=players_info_list[i].drop('Draft Status', axis=1)"
   ]
  },
  {
   "cell_type": "code",
   "execution_count": 5,
   "metadata": {},
   "outputs": [],
   "source": [
    "utils.dflist_to_csv(players_info_list, 'players_infos')"
   ]
  },
  {
   "cell_type": "markdown",
   "metadata": {},
   "source": [
    "# Players Stats"
   ]
  },
  {
   "cell_type": "code",
   "execution_count": 288,
   "metadata": {},
   "outputs": [],
   "source": [
    "import numbers\n",
    "\n",
    "def is_numeric(value):\n",
    "    return isinstance(value, numbers.Number)\n",
    "\n",
    "# Convertir les valeurs numérique qui sont représenté en str en float\n",
    "for df in players_stats_list:\n",
    "    numeric_cols = ['GP', 'MIN', 'PTS', 'FGM', 'FGA', 'FG%', '3PM', '3PA', '3P%', 'FTM', 'FTA', 'FT%', 'ORB', 'DRB', 'REB', 'AST', 'STL', 'BLK', 'TOV', 'PF']\n",
    "    \n",
    "    for col in numeric_cols:\n",
    "        try:\n",
    "            df[col] = df[col].apply(lambda x: float(x.replace(\",\", \".\")) if not is_numeric(x) and not x == '-' else x)\n",
    "        except ValueError as e: \n",
    "            df[col] = df[col].apply(lambda x: (x[:-1].replace(\".\", '').replace(\",\", \".\") + '.' + str(int(x.split('.')[-1]))))"
   ]
  },
  {
   "cell_type": "code",
   "execution_count": 290,
   "metadata": {},
   "outputs": [],
   "source": [
    "utils.dflist_to_csv(players_stats_list, 'players_stats')"
   ]
  },
  {
   "cell_type": "markdown",
   "metadata": {},
   "source": [
    "# Schedules"
   ]
  },
  {
   "cell_type": "code",
   "execution_count": 26,
   "metadata": {},
   "outputs": [
    {
     "data": {
      "text/html": [
       "<div>\n",
       "<style scoped>\n",
       "    .dataframe tbody tr th:only-of-type {\n",
       "        vertical-align: middle;\n",
       "    }\n",
       "\n",
       "    .dataframe tbody tr th {\n",
       "        vertical-align: top;\n",
       "    }\n",
       "\n",
       "    .dataframe thead th {\n",
       "        text-align: right;\n",
       "    }\n",
       "</style>\n",
       "<table border=\"1\" class=\"dataframe\">\n",
       "  <thead>\n",
       "    <tr style=\"text-align: right;\">\n",
       "      <th></th>\n",
       "      <th>DATE</th>\n",
       "      <th>OPPONENT</th>\n",
       "      <th>RESULT</th>\n",
       "      <th>W-L</th>\n",
       "      <th>Hi Points</th>\n",
       "      <th>Hi Rebounds</th>\n",
       "      <th>Hi Assists</th>\n",
       "      <th>Home_Away</th>\n",
       "      <th>Title</th>\n",
       "    </tr>\n",
       "  </thead>\n",
       "  <tbody>\n",
       "    <tr>\n",
       "      <th>0</th>\n",
       "      <td>Wed, Oct 29</td>\n",
       "      <td>Sacramento</td>\n",
       "      <td>W95-77</td>\n",
       "      <td>1-0</td>\n",
       "      <td>Curry  24</td>\n",
       "      <td>Curry  10</td>\n",
       "      <td>Thompson  6</td>\n",
       "      <td>H</td>\n",
       "      <td>Golden State Warriors 2014-15 Regular Season N...</td>\n",
       "    </tr>\n",
       "    <tr>\n",
       "      <th>1</th>\n",
       "      <td>Sat, Nov 1</td>\n",
       "      <td>Los Angeles</td>\n",
       "      <td>W127-104</td>\n",
       "      <td>2-0</td>\n",
       "      <td>Thompson  41</td>\n",
       "      <td>Bogut  10</td>\n",
       "      <td>Curry  10</td>\n",
       "      <td>A</td>\n",
       "      <td>Golden State Warriors 2014-15 Regular Season N...</td>\n",
       "    </tr>\n",
       "    <tr>\n",
       "      <th>2</th>\n",
       "      <td>Sun, Nov 2</td>\n",
       "      <td>Portland</td>\n",
       "      <td>W95-90</td>\n",
       "      <td>3-0</td>\n",
       "      <td>Thompson  29</td>\n",
       "      <td>Bogut  12</td>\n",
       "      <td>Curry  6</td>\n",
       "      <td>H</td>\n",
       "      <td>Golden State Warriors 2014-15 Regular Season N...</td>\n",
       "    </tr>\n",
       "    <tr>\n",
       "      <th>3</th>\n",
       "      <td>Wed, Nov 5</td>\n",
       "      <td>LA</td>\n",
       "      <td>W121-104</td>\n",
       "      <td>4-0</td>\n",
       "      <td>Curry  28</td>\n",
       "      <td>Bogut  14</td>\n",
       "      <td>Curry  7</td>\n",
       "      <td>A</td>\n",
       "      <td>Golden State Warriors 2014-15 Regular Season N...</td>\n",
       "    </tr>\n",
       "    <tr>\n",
       "      <th>4</th>\n",
       "      <td>Sat, Nov 8</td>\n",
       "      <td>Houston</td>\n",
       "      <td>W98-87</td>\n",
       "      <td>5-0</td>\n",
       "      <td>Curry  34</td>\n",
       "      <td>Bogut  18</td>\n",
       "      <td>Thompson  6</td>\n",
       "      <td>H</td>\n",
       "      <td>Golden State Warriors 2014-15 Regular Season N...</td>\n",
       "    </tr>\n",
       "    <tr>\n",
       "      <th>...</th>\n",
       "      <td>...</td>\n",
       "      <td>...</td>\n",
       "      <td>...</td>\n",
       "      <td>...</td>\n",
       "      <td>...</td>\n",
       "      <td>...</td>\n",
       "      <td>...</td>\n",
       "      <td>...</td>\n",
       "      <td>...</td>\n",
       "    </tr>\n",
       "    <tr>\n",
       "      <th>77</th>\n",
       "      <td>Tue, Apr 7</td>\n",
       "      <td>New Orleans</td>\n",
       "      <td>L103-100</td>\n",
       "      <td>63-15</td>\n",
       "      <td>Curry  25</td>\n",
       "      <td>Green  14</td>\n",
       "      <td>Curry  9</td>\n",
       "      <td>H</td>\n",
       "      <td>Golden State Warriors 2014-15 Regular Season N...</td>\n",
       "    </tr>\n",
       "    <tr>\n",
       "      <th>78</th>\n",
       "      <td>Thu, Apr 9</td>\n",
       "      <td>Portland</td>\n",
       "      <td>W116-105</td>\n",
       "      <td>64-15</td>\n",
       "      <td>Curry  45</td>\n",
       "      <td>Green  14</td>\n",
       "      <td>Curry  10</td>\n",
       "      <td>A</td>\n",
       "      <td>Golden State Warriors 2014-15 Regular Season N...</td>\n",
       "    </tr>\n",
       "    <tr>\n",
       "      <th>79</th>\n",
       "      <td>Sat, Apr 11</td>\n",
       "      <td>Minnesota</td>\n",
       "      <td>W110-101</td>\n",
       "      <td>65-15</td>\n",
       "      <td>Curry  34</td>\n",
       "      <td>Green  14</td>\n",
       "      <td>Curry  7</td>\n",
       "      <td>A</td>\n",
       "      <td>Golden State Warriors 2014-15 Regular Season N...</td>\n",
       "    </tr>\n",
       "    <tr>\n",
       "      <th>80</th>\n",
       "      <td>Mon, Apr 13</td>\n",
       "      <td>Memphis</td>\n",
       "      <td>W111-107</td>\n",
       "      <td>66-15</td>\n",
       "      <td>Thompson  42</td>\n",
       "      <td>Green  9</td>\n",
       "      <td>Curry  8</td>\n",
       "      <td>A</td>\n",
       "      <td>Golden State Warriors 2014-15 Regular Season N...</td>\n",
       "    </tr>\n",
       "    <tr>\n",
       "      <th>81</th>\n",
       "      <td>Wed, Apr 15</td>\n",
       "      <td>Denver</td>\n",
       "      <td>W133-126</td>\n",
       "      <td>67-15</td>\n",
       "      <td>Thompson  25</td>\n",
       "      <td>Speights  8</td>\n",
       "      <td>Curry  7</td>\n",
       "      <td>A</td>\n",
       "      <td>Golden State Warriors 2014-15 Regular Season N...</td>\n",
       "    </tr>\n",
       "  </tbody>\n",
       "</table>\n",
       "<p>82 rows × 9 columns</p>\n",
       "</div>"
      ],
      "text/plain": [
       "           DATE       OPPONENT      RESULT    W-L     Hi Points  Hi Rebounds  \\\n",
       "0   Wed, Oct 29    Sacramento     W95-77      1-0     Curry  24    Curry  10   \n",
       "1    Sat, Nov 1   Los Angeles   W127-104      2-0  Thompson  41    Bogut  10   \n",
       "2    Sun, Nov 2      Portland     W95-90      3-0  Thompson  29    Bogut  12   \n",
       "3    Wed, Nov 5            LA   W121-104      4-0     Curry  28    Bogut  14   \n",
       "4    Sat, Nov 8       Houston     W98-87      5-0     Curry  34    Bogut  18   \n",
       "..          ...            ...         ...    ...           ...          ...   \n",
       "77   Tue, Apr 7   New Orleans   L103-100    63-15     Curry  25    Green  14   \n",
       "78   Thu, Apr 9      Portland   W116-105    64-15     Curry  45    Green  14   \n",
       "79  Sat, Apr 11     Minnesota   W110-101    65-15     Curry  34    Green  14   \n",
       "80  Mon, Apr 13       Memphis   W111-107    66-15  Thompson  42     Green  9   \n",
       "81  Wed, Apr 15        Denver   W133-126    67-15  Thompson  25  Speights  8   \n",
       "\n",
       "     Hi Assists Home_Away                                              Title  \n",
       "0   Thompson  6         H  Golden State Warriors 2014-15 Regular Season N...  \n",
       "1     Curry  10         A  Golden State Warriors 2014-15 Regular Season N...  \n",
       "2      Curry  6         H  Golden State Warriors 2014-15 Regular Season N...  \n",
       "3      Curry  7         A  Golden State Warriors 2014-15 Regular Season N...  \n",
       "4   Thompson  6         H  Golden State Warriors 2014-15 Regular Season N...  \n",
       "..          ...       ...                                                ...  \n",
       "77     Curry  9         H  Golden State Warriors 2014-15 Regular Season N...  \n",
       "78    Curry  10         A  Golden State Warriors 2014-15 Regular Season N...  \n",
       "79     Curry  7         A  Golden State Warriors 2014-15 Regular Season N...  \n",
       "80     Curry  8         A  Golden State Warriors 2014-15 Regular Season N...  \n",
       "81     Curry  7         A  Golden State Warriors 2014-15 Regular Season N...  \n",
       "\n",
       "[82 rows x 9 columns]"
      ]
     },
     "execution_count": 26,
     "metadata": {},
     "output_type": "execute_result"
    }
   ],
   "source": [
    "schedule_df_list[0]"
   ]
  },
  {
   "cell_type": "code",
   "execution_count": 43,
   "metadata": {},
   "outputs": [],
   "source": [
    "import datetime\n",
    "\n",
    "def convert_date_format(date_str):\n",
    "    \"\"\"\n",
    "    Convertit une date au format \"Jour de la semaine, Mois Jour\" en format \"DD/MM/YY\".\n",
    "    \"\"\"\n",
    "    try:\n",
    "        date = datetime.datetime.strptime(date_str, '%a, %b %d')\n",
    "        return date.strftime(f'{date.day}/{date.month}')\n",
    "    except ValueError as e:\n",
    "        if date_str[5] == 'F': # Gérer le cas du 29 Février\n",
    "            return '29/02'\n",
    "        else:\n",
    "            print(f\"Error converting date: '{date_str}'. Error: {e}\")\n",
    "            return date_str\n",
    "\n",
    "def get_player_name(player_str):\n",
    "    \"\"\"\n",
    "    player_str : \"Name Number\" ; return Name.\n",
    "    \"\"\"\n",
    "    if not player_str or not isinstance(player_str, str):\n",
    "        return None\n",
    "    parts = player_str.split(' ')\n",
    "    player_name = parts[0]\n",
    "    return player_name"
   ]
  },
  {
   "cell_type": "code",
   "execution_count": 66,
   "metadata": {},
   "outputs": [],
   "source": [
    "# Supprimer les lignes où la colonne 'DATE' contient la valeur 'DATE' (erreur dans les données)\n",
    "for i,df in enumerate(schedule_df_list):\n",
    "    schedule_df_list[i] = df[df['DATE'] != 'DATE']"
   ]
  },
  {
   "cell_type": "code",
   "execution_count": 67,
   "metadata": {},
   "outputs": [],
   "source": [
    "for df in schedule_df_list:\n",
    "    # Conversion de la date\n",
    "    df['DATE'] = df['DATE'].apply(convert_date_format)\n",
    "\n",
    "    # Création de la colonne W_L\n",
    "    df['WorL'] = df['RESULT'].str[0]\n",
    "\n",
    "    if 'W-L' in df.columns:\n",
    "        df[['WIN', 'LOSE']] = df['W-L'].str.extract(r'(\\d+)-(\\d+)', expand=True).astype(int)\n",
    "    else:\n",
    "        df['WIN'] = None\n",
    "        df['LOSE'] = None\n",
    "        df['W-L'] = None\n",
    "\n",
    "\n",
    "    # Création des colonnes PTS et PTSO\n",
    "    df[['PTS', 'PTSO']] = df['RESULT'].str.extract(r'(\\d+)-(\\d+)', expand=True).astype(int)\n",
    "\n",
    "    # Extraction du nom du joueur\n",
    "    df['Hi Points'] = df['Hi Points'].apply(get_player_name)\n",
    "    df['Hi Rebounds'] = df['Hi Rebounds'].apply(get_player_name)\n",
    "    df['Hi Assists'] = df['Hi Assists'].apply(get_player_name)"
   ]
  },
  {
   "cell_type": "code",
   "execution_count": 69,
   "metadata": {},
   "outputs": [],
   "source": [
    "for i,df in enumerate(schedule_df_list):\n",
    "    schedule_df_list[i]=schedule_df_list[i].drop('W-L', axis=1)\n",
    "    schedule_df_list[i]=schedule_df_list[i].drop('RESULT', axis=1)"
   ]
  },
  {
   "cell_type": "code",
   "execution_count": 71,
   "metadata": {},
   "outputs": [],
   "source": [
    "utils.dflist_to_csv(schedule_df_list, 'schedules')"
   ]
  },
  {
   "cell_type": "markdown",
   "metadata": {},
   "source": [
    "# Standings"
   ]
  },
  {
   "cell_type": "code",
   "execution_count": 98,
   "metadata": {},
   "outputs": [],
   "source": [
    "for df in standing_df_list:\n",
    "\n",
    "    df[['HOME-W','HOME-L']] = df['HOME'].str.extract(r'(\\d+)-(\\d+)', expand=True).astype(int)\n",
    "    df[['AWAY-W','AWAY-L']] = df['AWAY'].str.extract(r'(\\d+)-(\\d+)', expand=True).astype(int)\n",
    "    df[['DIV-W','DIV-L']] = df['DIV'].str.extract(r'(\\d+)-(\\d+)', expand=True).astype(int)\n",
    "    df[['CONF-W','CONF-L']] = df['CONF'].str.extract(r'(\\d+)-(\\d+)', expand=True).astype(int)\n",
    "    df[['Last10-W','Last10-L']] = df['L10'].str.extract(r'(\\d+)-(\\d+)', expand=True).astype(int)"
   ]
  },
  {
   "cell_type": "code",
   "execution_count": 99,
   "metadata": {},
   "outputs": [],
   "source": [
    "for df in standing_df_list:\n",
    "    df['GB'] = df['GB'].str.replace('-', '0').astype(float)"
   ]
  },
  {
   "cell_type": "code",
   "execution_count": 100,
   "metadata": {},
   "outputs": [],
   "source": [
    "for i,df in enumerate(standing_df_list):\n",
    "    standing_df_list[i]=standing_df_list[i].drop('HOME', axis=1)\n",
    "    standing_df_list[i]=standing_df_list[i].drop('AWAY', axis=1)\n",
    "    standing_df_list[i]=standing_df_list[i].drop('DIV', axis=1)\n",
    "    standing_df_list[i]=standing_df_list[i].drop('CONF', axis=1)\n",
    "    standing_df_list[i]=standing_df_list[i].drop('L10', axis=1)"
   ]
  },
  {
   "cell_type": "code",
   "execution_count": 103,
   "metadata": {},
   "outputs": [],
   "source": [
    "utils.dflist_to_csv(standing_df_list, 'standings')"
   ]
  },
  {
   "cell_type": "markdown",
   "metadata": {},
   "source": [
    "# Teams stats"
   ]
  },
  {
   "cell_type": "code",
   "execution_count": 110,
   "metadata": {},
   "outputs": [],
   "source": [
    "utils.dflist_to_csv(team_stats_df_list, 'teams_stats')\n",
    "utils.dflist_to_csv(team_stats_differential_df_list, 'teams_stats_differential')\n",
    "utils.dflist_to_csv(team_stats_opponent_df_list, 'teams_stats_opponent')"
   ]
  }
 ],
 "metadata": {
  "kernelspec": {
   "display_name": "base",
   "language": "python",
   "name": "python3"
  },
  "language_info": {
   "codemirror_mode": {
    "name": "ipython",
    "version": 3
   },
   "file_extension": ".py",
   "mimetype": "text/x-python",
   "name": "python",
   "nbconvert_exporter": "python",
   "pygments_lexer": "ipython3",
   "version": "3.11.4"
  }
 },
 "nbformat": 4,
 "nbformat_minor": 2
}
