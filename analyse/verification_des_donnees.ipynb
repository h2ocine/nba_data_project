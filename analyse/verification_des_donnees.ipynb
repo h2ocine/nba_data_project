{
 "cells": [
  {
   "cell_type": "code",
   "execution_count": 1,
   "metadata": {},
   "outputs": [],
   "source": [
    "import utils"
   ]
  },
  {
   "cell_type": "markdown",
   "metadata": {},
   "source": [
    "# Préparation des données"
   ]
  },
  {
   "cell_type": "code",
   "execution_count": 2,
   "metadata": {},
   "outputs": [],
   "source": [
    "# Players lists\n",
    "players_info_list = utils.get_dataframes_csv_file('../scraping/csv/players_infos')\n",
    "players_stats_list = utils.get_dataframes_csv_file('../scraping/csv/players_stats')\n",
    "\n",
    "# Teams lists\n",
    "schedule_df_list = utils.get_dataframes_csv_file('../scraping/csv/schedule' )\n",
    "standing_df_list = utils.get_dataframes_csv_file('../scraping/csv/standing')\n",
    "team_stats_df_list = utils.get_dataframes_csv_file('../scraping/csv/team_stats')\n",
    "team_stats_opponent_df_list = utils.get_dataframes_csv_file('../scraping/csv/team_stats_opponent')\n",
    "team_stats_differential_df_list = utils.get_dataframes_csv_file('../scraping/csv/team_stats_differential')"
   ]
  },
  {
   "cell_type": "code",
   "execution_count": 3,
   "metadata": {},
   "outputs": [],
   "source": [
    "# Trier les données en fonction des années \n",
    "players_info_list.sort(key=lambda df: df['Title'][0].split('-')[0][-4:])\n",
    "players_stats_list.sort(key=lambda df: df['Title'][0].split('-')[0][-4:])"
   ]
  },
  {
   "cell_type": "code",
   "execution_count": 4,
   "metadata": {},
   "outputs": [],
   "source": [
    "# Diviser les données des stats des joueurs en fonctions du type de saison \n",
    "players_stats_list_summer_league = []\n",
    "players_stats_list_playoffs = []\n",
    "players_stats_list_regular_season = []\n",
    "players_stats_list_preseason = []\n",
    "\n",
    "for df in players_stats_list:\n",
    "    year = df['Title'].iloc[0].split(' ')[1]\n",
    "\n",
    "    if year == '2023-2024':\n",
    "        continue\n",
    "\n",
    "    season_type = df['Title'].iloc[0].split(' ')[2]\n",
    "    \n",
    "    # Ajouter les données au dictionnaire approprié\n",
    "    if season_type == 'Playoffs':\n",
    "        players_stats_list_playoffs.append(df)\n",
    "    elif season_type == 'Regular_Season':\n",
    "        players_stats_list_regular_season.append(df)\n",
    "    elif season_type == 'Preseason':\n",
    "        players_stats_list_preseason.append(df)"
   ]
  },
  {
   "cell_type": "code",
   "execution_count": 5,
   "metadata": {},
   "outputs": [],
   "source": [
    "# Diviser les données des matchs des equipes en fonctions du type de saison \n",
    "schedule_df_list_list_summer_league = []\n",
    "schedule_df_list_list_playin = []\n",
    "schedule_df_list_list_regular_season = []\n",
    "schedule_df_list_list_preseason = []\n",
    "\n",
    "for df in schedule_df_list:\n",
    "    season_type = df['Title'].iloc[0].split(' ')[-3]\n",
    "    \n",
    "    # Ajouter les données au dictionnaire approprié\n",
    "    if season_type == 'Summer_League':\n",
    "        schedule_df_list_list_summer_league.append(df)\n",
    "    elif season_type == 'Play-In':\n",
    "        schedule_df_list_list_playin.append(df)\n",
    "    elif season_type == 'Season':\n",
    "        schedule_df_list_list_regular_season.append(df)\n",
    "    elif season_type == 'Preseason':\n",
    "        schedule_df_list_list_preseason.append(df)"
   ]
  },
  {
   "cell_type": "code",
   "execution_count": 7,
   "metadata": {},
   "outputs": [],
   "source": [
    "# Selectionner depuis l'année 2000\n",
    "players_info_list_2000 = players_info_list[54::]\n",
    "players_stats_list_2000 = players_stats_list[108::]\n",
    "\n",
    "# Selectionner depuis l'année 1990\n",
    "players_info_list_1990 = players_info_list[44::]\n",
    "players_stats_list_1990 = players_stats_list[88::]\n",
    "\n",
    "# Selectionner depuis l'année 1980\n",
    "players_info_list_1980 = players_info_list[34::]\n",
    "players_stats_list_1980 = players_stats_list[68::]\n",
    "\n",
    "# Selectionner depuis l'année 1970\n",
    "players_info_list_1970 = players_info_list[24::]\n",
    "players_stats_list_1970 = players_stats_list[48::]\n",
    "\n",
    "# Selectionner depuis l'année 1960\n",
    "players_info_list_1960 = players_info_list[14::]\n",
    "players_stats_list_1960 = players_stats_list[28::]\n",
    "\n",
    "# Selectionner depuis l'année 1950\n",
    "players_info_list_1950 = players_info_list[4::]\n",
    "players_stats_list_1950 = players_stats_list[8::]"
   ]
  },
  {
   "cell_type": "markdown",
   "metadata": {},
   "source": [
    "# Analyse quantitif"
   ]
  },
  {
   "cell_type": "code",
   "execution_count": 8,
   "metadata": {},
   "outputs": [
    {
     "name": "stdout",
     "output_type": "stream",
     "text": [
      "nombre de saisons pour les statistiques des joueurs :  78\n",
      "nombre de données de 'summer league season' pour les statistiques des joueurs :  0\n",
      "nombre de données de 'pre season' pour les statistiques des joueurs :  13\n",
      "nombre de données de 'regular season' pour les statistiques des joueurs :  77\n",
      "nombre de données de 'playoff' pour les statistiques des joueurs :  77\n"
     ]
    }
   ],
   "source": [
    "print(\"nombre de saisons pour les statistiques des joueurs : \", len(players_info_list))\n",
    "\n",
    "print(\"nombre de données de \\'summer league season\\' pour les statistiques des joueurs : \", len(players_stats_list_summer_league))\n",
    "print(\"nombre de données de \\'pre season\\' pour les statistiques des joueurs : \", len(players_stats_list_preseason))\n",
    "print(\"nombre de données de \\'regular season\\' pour les statistiques des joueurs : \", len(players_stats_list_regular_season))\n",
    "print(\"nombre de données de \\'playoff\\' pour les statistiques des joueurs : \", len(players_stats_list_playoffs))"
   ]
  },
  {
   "cell_type": "markdown",
   "metadata": {},
   "source": [
    "# Vérification des données"
   ]
  },
  {
   "cell_type": "code",
   "execution_count": 9,
   "metadata": {},
   "outputs": [],
   "source": [
    "from collections import defaultdict\n",
    "\n",
    "def get_null_counts(df_list):\n",
    "    \"\"\"\n",
    "    Calcule le nombre total d'éléments nuls pour chaque colonne dans une liste de DataFrames.\n",
    "    \"\"\"\n",
    "    null_counts = defaultdict(int)\n",
    "\n",
    "    for col in df_list[0].columns:\n",
    "        null_counts[col] = 0\n",
    "\n",
    "    for df in df_list:\n",
    "        # Compter les valeurs nulles pour chaque colonne dans ce DataFrame\n",
    "        null_counts_df = df.isnull().sum().to_dict()\n",
    "        \n",
    "        # Ajouter ces comptes au dictionnaire total\n",
    "        for col, count in null_counts_df.items():\n",
    "            null_counts[col] += count\n",
    "\n",
    "    return null_counts\n",
    "\n",
    "def get_empty_columns_counts(df_list):\n",
    "    \"\"\"\n",
    "    Calcule les comptes de valeurs vides, des '-' pour les chaînes de caractères.\n",
    "    \"\"\"\n",
    "    empty_counts = defaultdict(int)\n",
    "\n",
    "    for col in df_list[0].columns:\n",
    "        empty_counts[col] = 0\n",
    "\n",
    "    for df in df_list:\n",
    "        for col in df.columns:\n",
    "            # Vérifier le type de la colonne\n",
    "            if df[col].dtype == object:  # Colonne de type chaîne de caractères\n",
    "                if (df[col]== '').all():\n",
    "                    empty_counts[col] += 1\n",
    "                elif (df[col]== '-').all():\n",
    "                    empty_counts[col] += 1\n",
    "            else:  # Colonne numérique\n",
    "                if (df[col] == 0).all():\n",
    "                    empty_counts[col] += 1\n",
    "    return empty_counts"
   ]
  },
  {
   "cell_type": "markdown",
   "metadata": {},
   "source": [
    "### Vérification pour les données des informations de joueurs (Players infos)"
   ]
  },
  {
   "cell_type": "code",
   "execution_count": 10,
   "metadata": {},
   "outputs": [
    {
     "name": "stdout",
     "output_type": "stream",
     "text": [
      "Nombre de statistique de joueurs 24561\n"
     ]
    }
   ],
   "source": [
    "total_stats = 0\n",
    "for df in players_info_list:\n",
    "    total_stats += len(df)\n",
    "print(\"Nombre de statistique de joueurs\", total_stats)\n"
   ]
  },
  {
   "cell_type": "code",
   "execution_count": 11,
   "metadata": {},
   "outputs": [
    {
     "name": "stdout",
     "output_type": "stream",
     "text": [
      "\n",
      "Nombre de valeurs null\n",
      "Player : 0\n",
      "Pos : 7\n",
      "HT : 0\n",
      "WT : 0\n",
      "Age : 0\n",
      "Teams : 0\n",
      "GP : 0\n",
      "YOS : 0\n",
      "Pre-Draft Team : 443\n",
      "Draft Status : 0\n",
      "Nationality : 0\n",
      "Title : 0\n",
      "# : 0\n"
     ]
    }
   ],
   "source": [
    "print('\\nNombre de valeurs null')\n",
    "for col,nb in get_null_counts(players_info_list).items():\n",
    "    print(col, ':', nb)"
   ]
  },
  {
   "cell_type": "markdown",
   "metadata": {},
   "source": [
    "<span style=\"color:green\">\n",
    "Pre-Draft Team nulls : 443 / 24561 valeurs nulls ---> ok (pas significatif)\n",
    "\n",
    "Généralement pas de valeurs nulls --> ok\n",
    "</span>"
   ]
  },
  {
   "cell_type": "code",
   "execution_count": 12,
   "metadata": {},
   "outputs": [
    {
     "name": "stdout",
     "output_type": "stream",
     "text": [
      "\n",
      "Nombre de columns == 0 ou ''\n",
      "Player  :  0\n",
      "Pos  :  0\n",
      "HT  :  0\n",
      "WT  :  0\n",
      "Age  :  0\n",
      "Teams  :  0\n",
      "GP  :  0\n",
      "YOS  :  1\n",
      "Pre-Draft Team  :  0\n",
      "Draft Status  :  0\n",
      "Nationality  :  0\n",
      "Title  :  0\n"
     ]
    }
   ],
   "source": [
    "print('\\nNombre de columns == 0 ou \\'\\'')\n",
    "for col,nb in get_empty_columns_counts(players_info_list).items():\n",
    "    print(col, ' : ', nb)"
   ]
  },
  {
   "cell_type": "markdown",
   "metadata": {},
   "source": [
    "<span style=\"color:green\">\n",
    "Génralement pas de valeurs vide ---> ok\n",
    "\n",
    "\n",
    "La colonne YOS (Années d'expérience du joueur dans la NBA avant cette saison) est == 0 pour tout les joueurs de la premiere saison de la NBA (la saison 1946-1947) car il n'yavait pas de saison avant \n",
    "</span>"
   ]
  },
  {
   "cell_type": "markdown",
   "metadata": {},
   "source": [
    "<span style=\"color:green\">\n",
    "Les données des informations de joueurs sont complets\n",
    "</span>"
   ]
  },
  {
   "cell_type": "markdown",
   "metadata": {},
   "source": [
    "### Vérification pour les données des statistiques des joueurs (Players stats)"
   ]
  },
  {
   "cell_type": "code",
   "execution_count": 13,
   "metadata": {},
   "outputs": [
    {
     "name": "stdout",
     "output_type": "stream",
     "text": [
      "Nombre de statistique de joueurs 49562\n"
     ]
    }
   ],
   "source": [
    "total_stats = 0\n",
    "for df in players_stats_list:\n",
    "    total_stats += len(df)\n",
    "print(\"Nombre de statistique de joueurs\", total_stats)"
   ]
  },
  {
   "cell_type": "code",
   "execution_count": 14,
   "metadata": {},
   "outputs": [
    {
     "name": "stdout",
     "output_type": "stream",
     "text": [
      "\n",
      "Nombre de valeurs null\n",
      "Player : 0\n",
      "Team : 2\n",
      "GP : 0\n",
      "MIN : 0\n",
      "PTS : 0\n",
      "FGM : 0\n",
      "FGA : 0\n",
      "FG% : 0\n",
      "3PM : 0\n",
      "3PA : 0\n",
      "3P% : 0\n",
      "FTM : 0\n",
      "FTA : 0\n",
      "FT% : 0\n",
      "ORB : 0\n",
      "DRB : 0\n",
      "REB : 0\n",
      "AST : 0\n",
      "STL : 0\n",
      "BLK : 0\n",
      "TOV : 0\n",
      "PF : 0\n",
      "Title : 0\n"
     ]
    }
   ],
   "source": [
    "print('\\nNombre de valeurs null')\n",
    "for col,nb in get_null_counts(players_stats_list).items():\n",
    "    print(col, ':', nb)"
   ]
  },
  {
   "cell_type": "markdown",
   "metadata": {},
   "source": [
    "<span style=\"color:green\">\n",
    "Génralement pas de valeurs vide ---> ok\n",
    "</span>"
   ]
  },
  {
   "cell_type": "code",
   "execution_count": 15,
   "metadata": {},
   "outputs": [
    {
     "name": "stdout",
     "output_type": "stream",
     "text": [
      "187\n"
     ]
    }
   ],
   "source": [
    "print(len(players_stats_list))"
   ]
  },
  {
   "cell_type": "code",
   "execution_count": 16,
   "metadata": {},
   "outputs": [
    {
     "name": "stdout",
     "output_type": "stream",
     "text": [
      "\n",
      "Nombre de valeurs == 0 ou ''\n",
      "Player  :  0\n",
      "Team  :  0\n",
      "GP  :  0\n",
      "MIN  :  10\n",
      "PTS  :  0\n",
      "FGM  :  0\n",
      "FGA  :  0\n",
      "FG%  :  0\n",
      "3PM  :  66\n",
      "3PA  :  66\n",
      "3P%  :  66\n",
      "FTM  :  0\n",
      "FTA  :  0\n",
      "FT%  :  0\n",
      "ORB  :  54\n",
      "DRB  :  54\n",
      "REB  :  8\n",
      "AST  :  0\n",
      "STL  :  54\n",
      "BLK  :  54\n",
      "TOV  :  62\n",
      "PF  :  0\n",
      "Title  :  0\n"
     ]
    }
   ],
   "source": [
    "print('\\nNombre de valeurs == 0 ou \\'\\'')\n",
    "for col,nb in get_empty_columns_counts(players_stats_list).items():\n",
    "    print(col, ' : ', nb)"
   ]
  },
  {
   "cell_type": "markdown",
   "metadata": {},
   "source": [
    "<span style=\"color:red\">\n",
    "Les statistiques 3PM,3PA,3P%,ORB,DRB,STL,BLK,TOV ne sont pas contabilisé entre 54 et 66 fois sur 187---> c'est très élevé : on constate que ces données manques et cela causer problèmes\n",
    "\n",
    "La statistique MIN n'est pas contabilisé 10 fois ---> cela pourrais aussi causé problème\n",
    "\n",
    "</span>\n",
    "\n",
    "On verra dans ce qui suit d'ou viennent les données manquantes en essayant les données a partir d'années différentes"
   ]
  },
  {
   "cell_type": "code",
   "execution_count": 17,
   "metadata": {},
   "outputs": [
    {
     "name": "stdout",
     "output_type": "stream",
     "text": [
      "\n",
      "Nombre de valeurs == 0 ou ''\n",
      "Player  :  0\n",
      "Team  :  0\n",
      "GP  :  0\n",
      "MIN  :  2\n",
      "PTS  :  0\n",
      "FGM  :  0\n",
      "FGA  :  0\n",
      "FG%  :  0\n",
      "3PM  :  58\n",
      "3PA  :  58\n",
      "3P%  :  58\n",
      "FTM  :  0\n",
      "FTA  :  0\n",
      "FT%  :  0\n",
      "ORB  :  46\n",
      "DRB  :  46\n",
      "REB  :  0\n",
      "AST  :  0\n",
      "STL  :  46\n",
      "BLK  :  46\n",
      "TOV  :  54\n",
      "PF  :  0\n",
      "Title  :  0\n"
     ]
    }
   ],
   "source": [
    "print('\\nNombre de valeurs == 0 ou \\'\\'')\n",
    "for col,nb in get_empty_columns_counts(players_stats_list_1950).items():\n",
    "    print(col, ' : ', nb)"
   ]
  },
  {
   "cell_type": "code",
   "execution_count": 18,
   "metadata": {},
   "outputs": [
    {
     "name": "stdout",
     "output_type": "stream",
     "text": [
      "\n",
      "Nombre de valeurs == 0 ou ''\n",
      "Player  :  0\n",
      "Team  :  0\n",
      "GP  :  0\n",
      "MIN  :  0\n",
      "PTS  :  0\n",
      "FGM  :  0\n",
      "FGA  :  0\n",
      "FG%  :  0\n",
      "3PM  :  38\n",
      "3PA  :  38\n",
      "3P%  :  38\n",
      "FTM  :  0\n",
      "FTA  :  0\n",
      "FT%  :  0\n",
      "ORB  :  26\n",
      "DRB  :  26\n",
      "REB  :  0\n",
      "AST  :  0\n",
      "STL  :  26\n",
      "BLK  :  26\n",
      "TOV  :  34\n",
      "PF  :  0\n",
      "Title  :  0\n"
     ]
    }
   ],
   "source": [
    "print('\\nNombre de valeurs == 0 ou \\'\\'')\n",
    "for col,nb in get_empty_columns_counts(players_stats_list_1960).items():\n",
    "    print(col, ' : ', nb)"
   ]
  },
  {
   "cell_type": "code",
   "execution_count": 19,
   "metadata": {},
   "outputs": [
    {
     "name": "stdout",
     "output_type": "stream",
     "text": [
      "\n",
      "Nombre de valeurs == 0 ou ''\n",
      "Player  :  0\n",
      "Team  :  0\n",
      "GP  :  0\n",
      "MIN  :  0\n",
      "PTS  :  0\n",
      "FGM  :  0\n",
      "FGA  :  0\n",
      "FG%  :  0\n",
      "3PM  :  18\n",
      "3PA  :  18\n",
      "3P%  :  18\n",
      "FTM  :  0\n",
      "FTA  :  0\n",
      "FT%  :  0\n",
      "ORB  :  6\n",
      "DRB  :  6\n",
      "REB  :  0\n",
      "AST  :  0\n",
      "STL  :  6\n",
      "BLK  :  6\n",
      "TOV  :  14\n",
      "PF  :  0\n",
      "Title  :  0\n"
     ]
    }
   ],
   "source": [
    "print('\\nNombre de valeurs == 0 ou \\'\\'')\n",
    "for col,nb in get_empty_columns_counts(players_stats_list_1970).items():\n",
    "    print(col, ' : ', nb)"
   ]
  },
  {
   "cell_type": "code",
   "execution_count": 20,
   "metadata": {},
   "outputs": [
    {
     "name": "stdout",
     "output_type": "stream",
     "text": [
      "\n",
      "Nombre de valeurs == 0 ou ''\n",
      "Player  :  0\n",
      "Team  :  0\n",
      "GP  :  0\n",
      "MIN  :  0\n",
      "PTS  :  0\n",
      "FGM  :  0\n",
      "FGA  :  0\n",
      "FG%  :  0\n",
      "3PM  :  0\n",
      "3PA  :  0\n",
      "3P%  :  0\n",
      "FTM  :  0\n",
      "FTA  :  0\n",
      "FT%  :  0\n",
      "ORB  :  0\n",
      "DRB  :  0\n",
      "REB  :  0\n",
      "AST  :  0\n",
      "STL  :  0\n",
      "BLK  :  0\n",
      "TOV  :  0\n",
      "PF  :  0\n",
      "Title  :  0\n"
     ]
    }
   ],
   "source": [
    "print('\\nNombre de valeurs == 0 ou \\'\\'')\n",
    "for col,nb in get_empty_columns_counts(players_stats_list_1980).items():\n",
    "    print(col, ' : ', nb)"
   ]
  },
  {
   "cell_type": "markdown",
   "metadata": {},
   "source": [
    "<span style=\"color:green\">\n",
    "\n",
    "On remarque que a partir des années 80s les données des statistiques sont completes\n",
    "\n",
    "Avant les années 80s les données de 3PM,3PA,3P%,ORB,DRB,STL,BLK,TOV  ne sont pas disponible\n",
    "\n",
    "</span>"
   ]
  },
  {
   "cell_type": "markdown",
   "metadata": {},
   "source": [
    "### Vérification pour les données des matchs des equipes (Schedules)"
   ]
  },
  {
   "cell_type": "code",
   "execution_count": 21,
   "metadata": {},
   "outputs": [],
   "source": [
    "schedule_df_list = utils.get_dataframes_csv_file('../scraping/csv/schedule' )\n",
    "standing_df_list = utils.get_dataframes_csv_file('../scraping/csv/standing')\n",
    "team_stats_df_list = utils.get_dataframes_csv_file('../scraping/csv/team_stats')\n",
    "team_stats_opponent_df_list = utils.get_dataframes_csv_file('../scraping/csv/team_stats_opponent')\n",
    "team_stats_differential_df_list = utils.get_dataframes_csv_file('../scraping/csv/team_stats_differential')"
   ]
  },
  {
   "cell_type": "code",
   "execution_count": 22,
   "metadata": {},
   "outputs": [
    {
     "name": "stdout",
     "output_type": "stream",
     "text": [
      "Nombre de matchs totales : 60380\n"
     ]
    }
   ],
   "source": [
    "total_lines = 0\n",
    "for df in schedule_df_list:\n",
    "    total_lines += len(df)\n",
    "print(\"Nombre de matchs totales :\", total_lines)"
   ]
  },
  {
   "cell_type": "code",
   "execution_count": 23,
   "metadata": {},
   "outputs": [
    {
     "name": "stdout",
     "output_type": "stream",
     "text": [
      "\n",
      "Nombre de valeurs null\n",
      "DATE : 0\n",
      "OPPONENT : 0\n",
      "RESULT : 0\n",
      "W-L : 0\n",
      "Hi Points : 2175\n",
      "Hi Rebounds : 2175\n",
      "Hi Assists : 2175\n",
      "Home_Away : 0\n",
      "Title : 0\n"
     ]
    }
   ],
   "source": [
    "print('\\nNombre de valeurs null')\n",
    "for col,nb in get_null_counts(schedule_df_list).items():\n",
    "    print(col, ':', nb)"
   ]
  },
  {
   "cell_type": "markdown",
   "metadata": {},
   "source": [
    "<span style=\"color:red\">\n",
    "Les columns Hi Points, Hi Rebounds, Hi Assists ont 2175 sur 60380 valeurs nulls \n",
    "</span>\n",
    "\n"
   ]
  },
  {
   "cell_type": "markdown",
   "metadata": {},
   "source": [
    "<span style=\"color:green\">\n",
    "Pas de valeurs vides pour les autres colonnes \n",
    "</span>"
   ]
  },
  {
   "cell_type": "code",
   "execution_count": 24,
   "metadata": {},
   "outputs": [
    {
     "name": "stdout",
     "output_type": "stream",
     "text": [
      "\n",
      "Nombre de valeurs null\n",
      "DATE : 0\n",
      "OPPONENT : 0\n",
      "RESULT : 0\n",
      "W-L : 0\n",
      "Hi Points : 2147\n",
      "Hi Rebounds : 2147\n",
      "Hi Assists : 2147\n",
      "Home_Away : 0\n",
      "Title : 0\n"
     ]
    }
   ],
   "source": [
    "print('\\nNombre de valeurs null')\n",
    "for col,nb in get_null_counts(schedule_df_list_list_preseason).items():\n",
    "    print(col, ':', nb)"
   ]
  },
  {
   "cell_type": "markdown",
   "metadata": {},
   "source": [
    "<span style=\"color:red\">\n",
    "Comme on peut le voir les Hi Points, Hi Rebounds, Hi Assists manquant viennent des données de présaison"
   ]
  },
  {
   "cell_type": "code",
   "execution_count": 25,
   "metadata": {},
   "outputs": [
    {
     "name": "stdout",
     "output_type": "stream",
     "text": [
      "nombre de classement : 1678\n"
     ]
    }
   ],
   "source": [
    "print('nombre de classement :',len(schedule_df_list))"
   ]
  },
  {
   "cell_type": "code",
   "execution_count": 26,
   "metadata": {},
   "outputs": [
    {
     "name": "stdout",
     "output_type": "stream",
     "text": [
      "\n",
      "Nombre de valeurs == 0 ou ''\n",
      "DATE  :  0\n",
      "OPPONENT  :  0\n",
      "RESULT  :  0\n",
      "W-L  :  0\n",
      "Hi Points  :  0\n",
      "Hi Rebounds  :  0\n",
      "Hi Assists  :  0\n",
      "Home_Away  :  0\n",
      "Title  :  0\n"
     ]
    }
   ],
   "source": [
    "print('\\nNombre de valeurs == 0 ou \\'\\'')\n",
    "for col,nb in get_empty_columns_counts(schedule_df_list).items():\n",
    "    print(col, ' : ', nb)"
   ]
  },
  {
   "cell_type": "markdown",
   "metadata": {},
   "source": [
    "<span style=\"color:green\">\n",
    "Pas de columns vides ou a 0 dans tout nos classement ---> ok\n",
    "</span>"
   ]
  },
  {
   "cell_type": "markdown",
   "metadata": {},
   "source": [
    "### Vérification pour les données des matchs des classements (Standings)"
   ]
  },
  {
   "cell_type": "code",
   "execution_count": 27,
   "metadata": {},
   "outputs": [
    {
     "name": "stdout",
     "output_type": "stream",
     "text": [
      "Nombre d'equipe classé avec répétition : 1316\n",
      "nombre de classement: 1678\n"
     ]
    }
   ],
   "source": [
    "total_lines = 0\n",
    "for df in standing_df_list:\n",
    "    total_lines += len(df)\n",
    "print(\"Nombre d'equipe classé avec répétition :\", total_lines)\n",
    "\n",
    "print('nombre de classement:',len(schedule_df_list))"
   ]
  },
  {
   "cell_type": "code",
   "execution_count": 28,
   "metadata": {},
   "outputs": [
    {
     "name": "stdout",
     "output_type": "stream",
     "text": [
      "\n",
      "Nombre de valeurs null\n",
      "Team Name : 0\n",
      "W : 0\n",
      "L : 0\n",
      "PCT : 0\n",
      "GB : 0\n",
      "HOME : 0\n",
      "AWAY : 0\n",
      "DIV : 0\n",
      "CONF : 0\n",
      "PPG : 0\n",
      "OPP PPG : 0\n",
      "DIFF : 0\n",
      "STRK : 0\n",
      "L10 : 0\n",
      "Title : 0\n"
     ]
    }
   ],
   "source": [
    "print('\\nNombre de valeurs null')\n",
    "for col,nb in get_null_counts(standing_df_list).items():\n",
    "    print(col, ':', nb)"
   ]
  },
  {
   "cell_type": "code",
   "execution_count": 29,
   "metadata": {},
   "outputs": [
    {
     "name": "stdout",
     "output_type": "stream",
     "text": [
      "\n",
      "Nombre de valeurs == 0 ou ''\n",
      "Team Name  :  0\n",
      "W  :  0\n",
      "L  :  0\n",
      "PCT  :  0\n",
      "GB  :  0\n",
      "HOME  :  0\n",
      "AWAY  :  0\n",
      "DIV  :  0\n",
      "CONF  :  0\n",
      "PPG  :  0\n",
      "OPP PPG  :  0\n",
      "DIFF  :  0\n",
      "STRK  :  0\n",
      "L10  :  0\n",
      "Title  :  0\n"
     ]
    }
   ],
   "source": [
    "print('\\nNombre de valeurs == 0 ou \\'\\'')\n",
    "for col,nb in get_empty_columns_counts(standing_df_list).items():\n",
    "    print(col, ' : ', nb)"
   ]
  },
  {
   "cell_type": "markdown",
   "metadata": {},
   "source": [
    "<span style=\"color:green\">\n",
    "Les données des classements sont completes\n",
    "</span>"
   ]
  },
  {
   "cell_type": "markdown",
   "metadata": {},
   "source": [
    "### Vérification pour les données des statistiques des equipes (team stats)"
   ]
  },
  {
   "cell_type": "code",
   "execution_count": 30,
   "metadata": {},
   "outputs": [
    {
     "name": "stdout",
     "output_type": "stream",
     "text": [
      "Nombre d'equipes avec répétition : 1039\n",
      "nombre de saisons pour les données des statistiques d'equipes: 45\n"
     ]
    }
   ],
   "source": [
    "total_lines = 0\n",
    "for df in team_stats_df_list:\n",
    "    total_lines += len(df)\n",
    "print(\"Nombre d'equipes avec répétition :\", total_lines)\n",
    "\n",
    "print('nombre de saisons pour les données des statistiques d\\'equipes:',len(team_stats_df_list))"
   ]
  },
  {
   "cell_type": "code",
   "execution_count": 31,
   "metadata": {},
   "outputs": [
    {
     "name": "stdout",
     "output_type": "stream",
     "text": [
      "\n",
      "Nombre de valeurs null pour les données de statistiques d'equipe\n",
      "Rank : 0\n",
      "Team Name : 0\n",
      "GP : 0\n",
      "PTS : 0\n",
      "FGM : 0\n",
      "FGA : 0\n",
      "FG% : 0\n",
      "3PM : 0\n",
      "3PA : 0\n",
      "3P% : 0\n",
      "FTM : 0\n",
      "FTA : 0\n",
      "FT% : 0\n",
      "OR : 0\n",
      "DR : 0\n",
      "REB : 0\n",
      "AST : 0\n",
      "STL : 0\n",
      "BLK : 0\n",
      "TO : 0\n",
      "PF : 0\n",
      "Title : 0\n"
     ]
    }
   ],
   "source": [
    "print('\\nNombre de valeurs null pour les données de statistiques d\\'equipe')\n",
    "for col,nb in get_null_counts(team_stats_df_list).items():\n",
    "    print(col, ':', nb)"
   ]
  },
  {
   "cell_type": "code",
   "execution_count": 32,
   "metadata": {},
   "outputs": [
    {
     "name": "stdout",
     "output_type": "stream",
     "text": [
      "\n",
      "Nombre de valeurs null pour les données de statistiques d'equipe version 2\n",
      "Rank : 0\n",
      "Team Name : 0\n",
      "GP : 0\n",
      "PTS : 0\n",
      "FGM : 0\n",
      "FGA : 0\n",
      "FG% : 0\n",
      "3PM : 0\n",
      "3PA : 0\n",
      "3P% : 0\n",
      "FTM : 0\n",
      "FTA : 0\n",
      "FT% : 0\n",
      "OR : 0\n",
      "DR : 0\n",
      "REB : 0\n",
      "AST : 0\n",
      "STL : 0\n",
      "BLK : 0\n",
      "TO : 0\n",
      "PF : 0\n",
      "Title : 0\n"
     ]
    }
   ],
   "source": [
    "print('\\nNombre de valeurs null pour les données de statistiques d\\'equipe version 2')\n",
    "for col,nb in get_null_counts(team_stats_differential_df_list).items():\n",
    "    print(col, ':', nb)"
   ]
  },
  {
   "cell_type": "code",
   "execution_count": 33,
   "metadata": {},
   "outputs": [
    {
     "name": "stdout",
     "output_type": "stream",
     "text": [
      "\n",
      "Nombre de valeurs null pour les données de statistiques d'equipe version 3\n",
      "Rank : 0\n",
      "Team Name : 0\n",
      "GP : 0\n",
      "PTS : 0\n",
      "FGM : 0\n",
      "FGA : 0\n",
      "FG% : 0\n",
      "3PM : 0\n",
      "3PA : 0\n",
      "3P% : 0\n",
      "FTM : 0\n",
      "FTA : 0\n",
      "FT% : 0\n",
      "OR : 0\n",
      "DR : 0\n",
      "REB : 0\n",
      "AST : 0\n",
      "STL : 0\n",
      "BLK : 0\n",
      "TO : 0\n",
      "PF : 0\n",
      "Title : 0\n"
     ]
    }
   ],
   "source": [
    "print('\\nNombre de valeurs null pour les données de statistiques d\\'equipe version 3')\n",
    "for col,nb in get_null_counts(team_stats_opponent_df_list).items():\n",
    "    print(col, ':', nb)"
   ]
  },
  {
   "cell_type": "code",
   "execution_count": 34,
   "metadata": {},
   "outputs": [
    {
     "name": "stdout",
     "output_type": "stream",
     "text": [
      "\n",
      "Nombre de valeurs == 0 ou '' pour les données de statistiques d'equipe\n",
      "Rank  :  0\n",
      "Team Name  :  0\n",
      "GP  :  0\n",
      "PTS  :  0\n",
      "FGM  :  0\n",
      "FGA  :  0\n",
      "FG%  :  0\n",
      "3PM  :  0\n",
      "3PA  :  0\n",
      "3P%  :  0\n",
      "FTM  :  0\n",
      "FTA  :  0\n",
      "FT%  :  0\n",
      "OR  :  0\n",
      "DR  :  0\n",
      "REB  :  0\n",
      "AST  :  0\n",
      "STL  :  0\n",
      "BLK  :  0\n",
      "TO  :  0\n",
      "PF  :  0\n",
      "Title  :  0\n"
     ]
    }
   ],
   "source": [
    "print('\\nNombre de valeurs == 0 ou \\'\\' pour les données de statistiques d\\'equipe')\n",
    "for col,nb in get_empty_columns_counts(team_stats_df_list).items():\n",
    "    print(col, ' : ', nb)"
   ]
  },
  {
   "cell_type": "code",
   "execution_count": 35,
   "metadata": {},
   "outputs": [
    {
     "name": "stdout",
     "output_type": "stream",
     "text": [
      "\n",
      "Nombre de valeurs == 0 ou '' pour les données de statistiques d'equipe version 2\n",
      "Rank  :  0\n",
      "Team Name  :  0\n",
      "GP  :  0\n",
      "PTS  :  0\n",
      "FGM  :  0\n",
      "FGA  :  0\n",
      "FG%  :  0\n",
      "3PM  :  0\n",
      "3PA  :  0\n",
      "3P%  :  0\n",
      "FTM  :  0\n",
      "FTA  :  0\n",
      "FT%  :  0\n",
      "OR  :  0\n",
      "DR  :  0\n",
      "REB  :  0\n",
      "AST  :  0\n",
      "STL  :  0\n",
      "BLK  :  0\n",
      "TO  :  0\n",
      "PF  :  0\n",
      "Title  :  0\n"
     ]
    }
   ],
   "source": [
    "print('\\nNombre de valeurs == 0 ou \\'\\' pour les données de statistiques d\\'equipe version 2')\n",
    "for col,nb in get_empty_columns_counts(team_stats_differential_df_list).items():\n",
    "    print(col, ' : ', nb)"
   ]
  },
  {
   "cell_type": "code",
   "execution_count": 36,
   "metadata": {},
   "outputs": [
    {
     "name": "stdout",
     "output_type": "stream",
     "text": [
      "\n",
      "Nombre de valeurs == 0 ou '' pour les données de statistiques d'equipe version 2\n",
      "Rank  :  0\n",
      "Team Name  :  0\n",
      "GP  :  0\n",
      "PTS  :  0\n",
      "FGM  :  0\n",
      "FGA  :  0\n",
      "FG%  :  0\n",
      "3PM  :  0\n",
      "3PA  :  0\n",
      "3P%  :  0\n",
      "FTM  :  0\n",
      "FTA  :  0\n",
      "FT%  :  0\n",
      "OR  :  0\n",
      "DR  :  0\n",
      "REB  :  0\n",
      "AST  :  0\n",
      "STL  :  0\n",
      "BLK  :  0\n",
      "TO  :  0\n",
      "PF  :  0\n",
      "Title  :  0\n"
     ]
    }
   ],
   "source": [
    "print('\\nNombre de valeurs == 0 ou \\'\\' pour les données de statistiques d\\'equipe version 2')\n",
    "for col,nb in get_empty_columns_counts(team_stats_opponent_df_list).items():\n",
    "    print(col, ' : ', nb)"
   ]
  },
  {
   "cell_type": "markdown",
   "metadata": {},
   "source": [
    "<span style=\"color:green\">\n",
    "Les données des statistiques d'equipes sont completes pour toutes les versions\n",
    "</span>"
   ]
  },
  {
   "cell_type": "markdown",
   "metadata": {},
   "source": [
    "### Résmé des vérification des valeurs : \n",
    "\n",
    "Pour les données de : \n",
    "- informations des joueurs : données completes\n",
    "- statistiques des joueurs  : données completes à partir des années 80s (Avant les années 80s les données de 3PM,3PA,3P%,ORB,DRB,STL,BLK,TOV  ne sont pas disponible)\n",
    "- matchs : manque quelques données pour Hi Points, Hi Rebounds, Hi Assists pour les matchs de Pré saison \n",
    "- classement : données completes\n",
    "- statistiques (les 3 verions) : données completes"
   ]
  }
 ],
 "metadata": {
  "kernelspec": {
   "display_name": "base",
   "language": "python",
   "name": "python3"
  },
  "language_info": {
   "codemirror_mode": {
    "name": "ipython",
    "version": 3
   },
   "file_extension": ".py",
   "mimetype": "text/x-python",
   "name": "python",
   "nbconvert_exporter": "python",
   "pygments_lexer": "ipython3",
   "version": "3.11.4"
  }
 },
 "nbformat": 4,
 "nbformat_minor": 2
}
