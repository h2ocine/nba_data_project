{
 "cells": [
  {
   "cell_type": "code",
   "execution_count": 264,
   "metadata": {},
   "outputs": [],
   "source": [
    "import utils"
   ]
  },
  {
   "cell_type": "markdown",
   "metadata": {},
   "source": [
    "# Préparation des données"
   ]
  },
  {
   "cell_type": "code",
   "execution_count": 266,
   "metadata": {},
   "outputs": [],
   "source": [
    "# Players lists\n",
    "players_info_list = utils.get_dataframes_csv_file('../scraping/csv/players_infos')\n",
    "players_stats_list = utils.get_dataframes_csv_file('../scraping/csv/players_stats')\n",
    "\n",
    "# Teams lists\n",
    "schedule_df_list = utils.get_dataframes_csv_file('../scraping/csv/schedule' )\n",
    "standing_df_list = utils.get_dataframes_csv_file('../scraping/csv/standing')\n",
    "team_stats_df_list = utils.get_dataframes_csv_file('../scraping/csv/team_stats')\n",
    "team_stats_opponent_df_list = utils.get_dataframes_csv_file('../scraping/csv/team_stats_opponent')\n",
    "team_stats_differential_df_list = utils.get_dataframes_csv_file('../scraping/csv/team_stats_differential')"
   ]
  },
  {
   "cell_type": "code",
   "execution_count": 267,
   "metadata": {},
   "outputs": [],
   "source": [
    "# Trier les données en fonction des années \n",
    "players_info_list.sort(key=lambda df: df['Title'][0].split('-')[0][-4:])\n",
    "players_stats_list.sort(key=lambda df: df['Title'][0].split('-')[0][-4:])"
   ]
  },
  {
   "cell_type": "code",
   "execution_count": 268,
   "metadata": {},
   "outputs": [],
   "source": [
    "# Diviser les données des stats des joueurs en fonctions du type de saison \n",
    "players_stats_list_summer_league = []\n",
    "players_stats_list_playoffs = []\n",
    "players_stats_list_regular_season = []\n",
    "players_stats_list_preseason = []\n",
    "\n",
    "for df in players_stats_list:\n",
    "    year = df['Title'].iloc[0].split(' ')[1]\n",
    "\n",
    "    if year == '2023-2024':\n",
    "        continue\n",
    "\n",
    "    season_type = df['Title'].iloc[0].split(' ')[2]\n",
    "    \n",
    "    # Ajouter les données au dictionnaire approprié\n",
    "    if season_type == 'Playoffs':\n",
    "        players_stats_list_playoffs.append(df)\n",
    "    elif season_type == 'Regular_Season':\n",
    "        players_stats_list_regular_season.append(df)\n",
    "    elif season_type == 'Preseason':\n",
    "        players_stats_list_preseason.append(df)\n",
    "\n",
    "# Diviser les données des matchs des equipes en fonctions du type de saison \n",
    "schedule_df_list_list_summer_league = []\n",
    "schedule_df_list_list_playin = []\n",
    "schedule_df_list_list_regular_season = []\n",
    "schedule_df_list_list_preseason = []\n",
    "\n",
    "for df in schedule_df_list:\n",
    "    season_type = df['Title'].iloc[0].split(' ')[-3]\n",
    "    \n",
    "    # Ajouter les données au dictionnaire approprié\n",
    "    if season_type == 'Summer_League':\n",
    "        schedule_df_list_list_summer_league.append(df)\n",
    "    elif season_type == 'Play-In':\n",
    "        schedule_df_list_list_playin.append(df)\n",
    "    elif season_type == 'Season':\n",
    "        schedule_df_list_list_regular_season.append(df)\n",
    "    elif season_type == 'Preseason':\n",
    "        schedule_df_list_list_preseason.append(df)"
   ]
  },
  {
   "cell_type": "markdown",
   "metadata": {},
   "source": [
    "# Analyse Quantitif"
   ]
  },
  {
   "cell_type": "code",
   "execution_count": 269,
   "metadata": {},
   "outputs": [
    {
     "name": "stdout",
     "output_type": "stream",
     "text": [
      "Les données disponibles :\n",
      "\n",
      "Pour les données des joueurs :\n",
      "nombre de saisons pour les statistiques des joueurs :  78\n",
      "nombre de saisons pour les informations des joueurs :  187 \n",
      "\n",
      "Pour les données des equipes :\n",
      "nombre de matchs d'une saison pour une equipe :  78\n",
      "nombre de classements :  187\n",
      "nombre de saisons pour les statistiques des equipes (version 1) :  45\n",
      "nombre de saisons pour les statistiques des equipes (version 2) :  45\n",
      "nombre de saisons pour les statistiques des equipes (version 3) :  45\n"
     ]
    }
   ],
   "source": [
    "print(\"Les données disponibles :\\n\")\n",
    "\n",
    "print(\"Pour les données des joueurs :\")\n",
    "print(\"nombre de saisons pour les statistiques des joueurs : \", len(players_info_list))\n",
    "print(\"nombre de saisons pour les informations des joueurs : \", len(players_stats_list), \"\\n\")\n",
    "\n",
    "print(\"Pour les données des equipes :\")\n",
    "print(\"nombre de matchs d'une saison pour une equipe : \", len(players_info_list))\n",
    "print(\"nombre de classements : \", len(players_stats_list))\n",
    "print(\"nombre de saisons pour les statistiques des equipes (version 1) : \", len(team_stats_df_list))\n",
    "print(\"nombre de saisons pour les statistiques des equipes (version 2) : \", len(team_stats_opponent_df_list))\n",
    "print(\"nombre de saisons pour les statistiques des equipes (version 3) : \", len(team_stats_differential_df_list))"
   ]
  }
 ],
 "metadata": {
  "language_info": {
   "name": "python"
  }
 },
 "nbformat": 4,
 "nbformat_minor": 2
}
