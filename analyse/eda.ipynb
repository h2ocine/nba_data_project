{
 "cells": [
  {
   "cell_type": "code",
   "execution_count": 264,
   "metadata": {},
   "outputs": [],
   "source": [
    "import utils"
   ]
  },
  {
   "cell_type": "markdown",
   "metadata": {},
   "source": [
    "# Préparation des données"
   ]
  },
  {
   "cell_type": "code",
   "execution_count": 266,
   "metadata": {},
   "outputs": [],
   "source": [
    "# Players lists\n",
    "players_info_list = utils.get_dataframes_csv_file('../scraping/csv/players_infos')\n",
    "players_stats_list = utils.get_dataframes_csv_file('../scraping/csv/players_stats')\n",
    "\n",
    "# Teams lists\n",
    "schedule_df_list = utils.get_dataframes_csv_file('../scraping/csv/schedule' )\n",
    "standing_df_list = utils.get_dataframes_csv_file('../scraping/csv/standing')\n",
    "team_stats_df_list = utils.get_dataframes_csv_file('../scraping/csv/team_stats')\n",
    "team_stats_opponent_df_list = utils.get_dataframes_csv_file('../scraping/csv/team_stats_opponent')\n",
    "team_stats_differential_df_list = utils.get_dataframes_csv_file('../scraping/csv/team_stats_differential')"
   ]
  },
  {
   "cell_type": "code",
   "execution_count": 267,
   "metadata": {},
   "outputs": [],
   "source": [
    "# Trier les données en fonction des années \n",
    "players_info_list.sort(key=lambda df: df['Title'][0].split('-')[0][-4:])\n",
    "players_stats_list.sort(key=lambda df: df['Title'][0].split('-')[0][-4:])"
   ]
  },
  {
   "cell_type": "code",
   "execution_count": 268,
   "metadata": {},
   "outputs": [],
   "source": [
    "# Diviser les données des stats des joueurs en fonctions du type de saison \n",
    "players_stats_list_summer_league = []\n",
    "players_stats_list_playoffs = []\n",
    "players_stats_list_regular_season = []\n",
    "players_stats_list_preseason = []\n",
    "\n",
    "for df in players_stats_list:\n",
    "    year = df['Title'].iloc[0].split(' ')[1]\n",
    "\n",
    "    if year == '2023-2024':\n",
    "        continue\n",
    "\n",
    "    season_type = df['Title'].iloc[0].split(' ')[2]\n",
    "    \n",
    "    # Ajouter les données au dictionnaire approprié\n",
    "    if season_type == 'Playoffs':\n",
    "        players_stats_list_playoffs.append(df)\n",
    "    elif season_type == 'Regular_Season':\n",
    "        players_stats_list_regular_season.append(df)\n",
    "    elif season_type == 'Preseason':\n",
    "        players_stats_list_preseason.append(df)\n",
    "\n",
    "# Diviser les données des matchs des equipes en fonctions du type de saison \n",
    "schedule_df_list_list_summer_league = []\n",
    "schedule_df_list_list_playin = []\n",
    "schedule_df_list_list_regular_season = []\n",
    "schedule_df_list_list_preseason = []\n",
    "\n",
    "for df in schedule_df_list:\n",
    "    season_type = df['Title'].iloc[0].split(' ')[-3]\n",
    "    \n",
    "    # Ajouter les données au dictionnaire approprié\n",
    "    if season_type == 'Summer_League':\n",
    "        schedule_df_list_list_summer_league.append(df)\n",
    "    elif season_type == 'Play-In':\n",
    "        schedule_df_list_list_playin.append(df)\n",
    "    elif season_type == 'Season':\n",
    "        schedule_df_list_list_regular_season.append(df)\n",
    "    elif season_type == 'Preseason':\n",
    "        schedule_df_list_list_preseason.append(df)"
   ]
  },
  {
   "cell_type": "markdown",
   "metadata": {},
   "source": [
    "# Analyse de la quantité de données"
   ]
  },
  {
   "cell_type": "markdown",
   "metadata": {},
   "source": [
    "### Données total : "
   ]
  },
  {
   "cell_type": "code",
   "execution_count": 270,
   "metadata": {},
   "outputs": [
    {
     "name": "stdout",
     "output_type": "stream",
     "text": [
      "Les données disponibles :\n",
      "\n",
      "Pour les données des joueurs :\n",
      "nombre de saisons pour les statistiques des joueurs :  78\n",
      "nombre de saisons pour les informations des joueurs :  187 \n",
      "\n",
      "Pour les données des equipes :\n",
      "nombre de matchs d'une saison pour une equipe :  78\n",
      "nombre de classements :  187\n",
      "nombre de saisons pour les statistiques des equipes (version 1) :  45\n",
      "nombre de saisons pour les statistiques des equipes (version 2) :  45\n",
      "nombre de saisons pour les statistiques des equipes (version 3) :  45\n"
     ]
    }
   ],
   "source": [
    "print(\"Les données disponibles :\\n\")\n",
    "\n",
    "print(\"Pour les données des joueurs :\")\n",
    "print(\"nombre de saisons pour les statistiques des joueurs : \", len(players_info_list))\n",
    "print(\"nombre de saisons pour les informations des joueurs : \", len(players_stats_list), \"\\n\")\n",
    "\n",
    "print(\"Pour les données des equipes :\")\n",
    "print(\"nombre de matchs d'une saison pour une equipe : \", len(players_info_list))\n",
    "print(\"nombre de classements : \", len(players_stats_list))\n",
    "print(\"nombre de saisons pour les statistiques des equipes (version 1) : \", len(team_stats_df_list))\n",
    "print(\"nombre de saisons pour les statistiques des equipes (version 2) : \", len(team_stats_opponent_df_list))\n",
    "print(\"nombre de saisons pour les statistiques des equipes (version 3) : \", len(team_stats_differential_df_list))"
   ]
  },
  {
   "cell_type": "code",
   "execution_count": 274,
   "metadata": {},
   "outputs": [
    {
     "name": "stdout",
     "output_type": "stream",
     "text": [
      "Nombre de données totale disponibles (nombre de lignes):\n",
      "\n",
      "Pour les données des joueurs :\n",
      "nombre de statistiques de  joueurs avec répétition :  24561\n",
      "nombre d'information de joueurs avec répétition :  49562 \n",
      "\n",
      "Pour les données des equipes :\n",
      "nombre de matchs total:  24561\n",
      "nombre de d'equipe classé avec répétition :  49562\n",
      "nombre de statistique d'equipe (version 1) :  1039\n",
      "nombre de statistique d'equipe (version 2) :  1039\n",
      "nombre de statistique d'equipe (version 3) :  1039\n"
     ]
    }
   ],
   "source": [
    "def get_total_lines(df_list):\n",
    "    total_lines = 0\n",
    "    for df in df_list:\n",
    "        total_lines += len(df)\n",
    "    return total_lines\n",
    "\n",
    "print(\"Nombre de données totale disponibles (nombre de lignes):\\n\")\n",
    "\n",
    "print(\"Pour les données des joueurs :\")\n",
    "print(\"nombre de statistiques de  joueurs avec répétition : \", get_total_lines(players_info_list))\n",
    "print(\"nombre d'information de joueurs avec répétition : \", get_total_lines(players_stats_list), \"\\n\")\n",
    "\n",
    "print(\"Pour les données des equipes :\")\n",
    "print(\"nombre de matchs total: \", get_total_lines(players_info_list))\n",
    "print(\"nombre de d'equipe classé avec répétition : \", get_total_lines(players_stats_list))\n",
    "print(\"nombre de statistique d'equipe (version 1) : \", get_total_lines(team_stats_df_list))\n",
    "print(\"nombre de statistique d'equipe (version 2) : \", get_total_lines(team_stats_opponent_df_list))\n",
    "print(\"nombre de statistique d'equipe (version 3) : \", get_total_lines(team_stats_differential_df_list))"
   ]
  },
  {
   "cell_type": "markdown",
   "metadata": {},
   "source": [
    "### Données des joueurs :"
   ]
  },
  {
   "cell_type": "code",
   "execution_count": null,
   "metadata": {},
   "outputs": [],
   "source": []
  }
 ],
 "metadata": {
  "language_info": {
   "name": "python"
  }
 },
 "nbformat": 4,
 "nbformat_minor": 2
}
