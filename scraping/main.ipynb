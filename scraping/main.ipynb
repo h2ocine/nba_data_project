{
 "cells": [
  {
   "cell_type": "code",
   "execution_count": 12,
   "metadata": {},
   "outputs": [],
   "source": [
    "import pandas as pd\n",
    "import uploader\n",
    "import os"
   ]
  },
  {
   "cell_type": "code",
   "execution_count": 54,
   "metadata": {},
   "outputs": [],
   "source": [
    "def dflist_to_csv(df_list, folder):\n",
    "    folder = os.path.normpath(folder) \n",
    "    \n",
    "    if not os.path.exists(folder):\n",
    "        os.makedirs(folder)\n",
    "    \n",
    "    for df in df_list:\n",
    "        file_name = df['Title'][0].replace(\" \", \"-\")\n",
    "        file_path = os.path.join(folder, f\"{file_name}.csv\")\n",
    "        \n",
    "        if not os.path.exists(file_path):\n",
    "            df.to_csv(file_path, index=False)"
   ]
  },
  {
   "cell_type": "markdown",
   "metadata": {},
   "source": [
    "### **URLS** "
   ]
  },
  {
   "cell_type": "code",
   "execution_count": 2,
   "metadata": {},
   "outputs": [],
   "source": [
    "schedule_url = 'https://www.espn.com/nba/team/schedule/_/name/atl'\n",
    "standing_url = 'https://www.espn.com/nba/standings/_/group/league'\n",
    "player_stats_url = 'https://www.espn.com/nba/stats/player'\n",
    "team_stats_url = 'https://www.espn.com/nba/stats/team'\n",
    "team_stats_opponent_url = 'https://www.espn.com/nba/stats/team/_/view/opponent'\n",
    "team_stats_differential_url = 'https://www.espn.com/nba/stats/team/_/view/differential'"
   ]
  },
  {
   "cell_type": "markdown",
   "metadata": {},
   "source": [
    "### **CSV Folder Names**"
   ]
  },
  {
   "cell_type": "code",
   "execution_count": 24,
   "metadata": {},
   "outputs": [],
   "source": [
    "schedule_csv = 'csv/schedule' \n",
    "standing_csv = 'csv/standing'\n",
    "player_stats_csv = 'csv/player_stats'\n",
    "team_stats_csv = 'csv/team_stats'\n",
    "team_stats_opponent_csvl = 'csv/team_stats_opponent'\n",
    "team_stats_differential_csv = 'csv/team_stats_differential'"
   ]
  },
  {
   "cell_type": "markdown",
   "metadata": {},
   "source": [
    "### **Upload the data**"
   ]
  },
  {
   "cell_type": "markdown",
   "metadata": {},
   "source": [
    "##### **Upload schedule**"
   ]
  },
  {
   "cell_type": "code",
   "execution_count": null,
   "metadata": {},
   "outputs": [],
   "source": [
    "schedule_df = uploader.upload_schedule(schedule_url)\n",
    "schedule_df.to_csv(schedule_csv, index=False)"
   ]
  },
  {
   "cell_type": "markdown",
   "metadata": {},
   "source": [
    "##### **Upload standings**"
   ]
  },
  {
   "cell_type": "code",
   "execution_count": 17,
   "metadata": {},
   "outputs": [
    {
     "name": "stdout",
     "output_type": "stream",
     "text": [
      "NBA Standings Regular Season 2023-24 uploaded successfully from https://www.espn.com/nba/standings/_/season/2024/group/league\n",
      "NBA Standings Pre Season 2023-24 uploaded successfully from https://www.espn.com/nba/standings/_/seasontype/pre/season/2024/group/league\n",
      "NBA Standings Regular Season 2022-23 uploaded successfully from https://www.espn.com/nba/standings/_/season/2023/group/league\n",
      "NBA Standings Pre Season 2022-23 uploaded successfully from https://www.espn.com/nba/standings/_/seasontype/pre/season/2023/group/league\n",
      "NBA Standings Regular Season 2021-22 uploaded successfully from https://www.espn.com/nba/standings/_/season/2022/group/league\n",
      "NBA Standings Pre Season 2021-22 uploaded successfully from https://www.espn.com/nba/standings/_/seasontype/pre/season/2022/group/league\n",
      "NBA Standings Regular Season 2020-21 uploaded successfully from https://www.espn.com/nba/standings/_/season/2021/group/league\n",
      "NBA Standings Pre Season 2020-21 uploaded successfully from https://www.espn.com/nba/standings/_/seasontype/pre/season/2021/group/league\n",
      "NBA Standings Regular Season 2019-20 uploaded successfully from https://www.espn.com/nba/standings/_/season/2020/group/league\n",
      "NBA Standings Pre Season 2019-20 uploaded successfully from https://www.espn.com/nba/standings/_/seasontype/pre/season/2020/group/league\n",
      "NBA Standings Regular Season 2018-19 uploaded successfully from https://www.espn.com/nba/standings/_/season/2019/group/league\n",
      "NBA Standings Pre Season 2018-19 uploaded successfully from https://www.espn.com/nba/standings/_/seasontype/pre/season/2019/group/league\n",
      "NBA Standings Regular Season 2017-18 uploaded successfully from https://www.espn.com/nba/standings/_/season/2018/group/league\n",
      "NBA Standings Pre Season 2017-18 uploaded successfully from https://www.espn.com/nba/standings/_/seasontype/pre/season/2018/group/league\n",
      "NBA Standings Regular Season 2016-17 uploaded successfully from https://www.espn.com/nba/standings/_/season/2017/group/league\n",
      "NBA Standings Pre Season 2016-17 uploaded successfully from https://www.espn.com/nba/standings/_/seasontype/pre/season/2017/group/league\n",
      "NBA Standings Regular Season 2015-16 uploaded successfully from https://www.espn.com/nba/standings/_/season/2016/group/league\n",
      "NBA Standings Pre Season 2015-16 uploaded successfully from https://www.espn.com/nba/standings/_/seasontype/pre/season/2016/group/league\n",
      "NBA Standings Regular Season 2014-15 uploaded successfully from https://www.espn.com/nba/standings/_/season/2015/group/league\n",
      "NBA Standings Pre Season 2014-15 uploaded successfully from https://www.espn.com/nba/standings/_/seasontype/pre/season/2015/group/league\n",
      "NBA Standings Regular Season 2013-14 uploaded successfully from https://www.espn.com/nba/standings/_/season/2014/group/league\n",
      "NBA Standings Pre Season 2013-14 uploaded successfully from https://www.espn.com/nba/standings/_/seasontype/pre/season/2014/group/league\n",
      "NBA Standings Regular Season 2012-13 uploaded successfully from https://www.espn.com/nba/standings/_/season/2013/group/league\n",
      "NBA Standings Pre Season 2012-13 uploaded successfully from https://www.espn.com/nba/standings/_/seasontype/pre/season/2013/group/league\n",
      "NBA Standings Regular Season 2011-12 uploaded successfully from https://www.espn.com/nba/standings/_/season/2012/group/league\n",
      "NBA Standings Pre Season 2011-12 uploaded successfully from https://www.espn.com/nba/standings/_/seasontype/pre/season/2012/group/league\n",
      "NBA Standings Regular Season 2010-11 uploaded successfully from https://www.espn.com/nba/standings/_/season/2011/group/league\n",
      "NBA Standings Pre Season 2010-11 uploaded successfully from https://www.espn.com/nba/standings/_/seasontype/pre/season/2011/group/league\n",
      "NBA Standings Regular Season 2009-10 uploaded successfully from https://www.espn.com/nba/standings/_/season/2010/group/league\n",
      "NBA Standings Pre Season 2009-10 uploaded successfully from https://www.espn.com/nba/standings/_/seasontype/pre/season/2010/group/league\n",
      "NBA Standings Regular Season 2008-09 uploaded successfully from https://www.espn.com/nba/standings/_/season/2009/group/league\n",
      "NBA Standings Pre Season 2008-09 uploaded successfully from https://www.espn.com/nba/standings/_/seasontype/pre/season/2009/group/league\n",
      "NBA Standings Regular Season 2007-08 uploaded successfully from https://www.espn.com/nba/standings/_/season/2008/group/league\n",
      "NBA Standings Pre Season 2007-08 uploaded successfully from https://www.espn.com/nba/standings/_/seasontype/pre/season/2008/group/league\n",
      "NBA Standings Regular Season 2006-07 uploaded successfully from https://www.espn.com/nba/standings/_/season/2007/group/league\n",
      "NBA Standings Pre Season 2006-07 uploaded successfully from https://www.espn.com/nba/standings/_/seasontype/pre/season/2007/group/league\n",
      "NBA Standings Regular Season 2005-06 uploaded successfully from https://www.espn.com/nba/standings/_/season/2006/group/league\n",
      "NBA Standings Pre Season 2005-06 uploaded successfully from https://www.espn.com/nba/standings/_/seasontype/pre/season/2006/group/league\n",
      "NBA Standings Regular Season 2004-05 uploaded successfully from https://www.espn.com/nba/standings/_/season/2005/group/league\n",
      "NBA Standings Pre Season 2004-05 uploaded successfully from https://www.espn.com/nba/standings/_/seasontype/pre/season/2005/group/league\n",
      "NBA Standings Regular Season 2003-04 uploaded successfully from https://www.espn.com/nba/standings/_/season/2004/group/league\n",
      "NBA Standings Pre Season 2003-04 uploaded successfully from https://www.espn.com/nba/standings/_/seasontype/pre/season/2004/group/league\n",
      "NBA Standings Regular Season 2002-03 uploaded successfully from https://www.espn.com/nba/standings/_/season/2003/group/league\n",
      "NBA Standings Pre Season 2002-03 uploaded successfully from https://www.espn.com/nba/standings/_/seasontype/pre/season/2003/group/league\n"
     ]
    }
   ],
   "source": [
    "standings_df = uploader.upload_standings(standing_url)"
   ]
  },
  {
   "cell_type": "code",
   "execution_count": 55,
   "metadata": {},
   "outputs": [],
   "source": [
    "dflist_to_csv(standings_df, standing_csv)"
   ]
  },
  {
   "cell_type": "markdown",
   "metadata": {},
   "source": [
    "##### **Upload teams stats**"
   ]
  },
  {
   "cell_type": "code",
   "execution_count": null,
   "metadata": {},
   "outputs": [],
   "source": [
    "team_stats_df = uploader.upload_schedule(team_stats_url)\n",
    "team_stats_df.to_csv(team_stats_csv, index=False)"
   ]
  },
  {
   "cell_type": "code",
   "execution_count": null,
   "metadata": {},
   "outputs": [],
   "source": [
    "team_stats_opponent_df = uploader.upload_schedule(team_stats_opponent_url)\n",
    "team_stats_opponent_df.to_csv(team_stats_opponent_csvl, index=False)"
   ]
  },
  {
   "cell_type": "code",
   "execution_count": null,
   "metadata": {},
   "outputs": [],
   "source": [
    "team_stats_differential_df = uploader.upload_schedule(team_stats_differential_url)\n",
    "team_stats_differential_df.to_csv(team_stats_differential_csv, index=False)"
   ]
  },
  {
   "cell_type": "markdown",
   "metadata": {},
   "source": [
    "##### **Upload players stats**"
   ]
  },
  {
   "cell_type": "code",
   "execution_count": null,
   "metadata": {},
   "outputs": [],
   "source": [
    "\n",
    "player_stats_df = uploader.upload_schedule(player_stats_url)\n",
    "player_stats_df.to_csv(player_stats_csv, index=False)\n"
   ]
  }
 ],
 "metadata": {
  "kernelspec": {
   "display_name": "Python 3",
   "language": "python",
   "name": "python3"
  },
  "language_info": {
   "codemirror_mode": {
    "name": "ipython",
    "version": 3
   },
   "file_extension": ".py",
   "mimetype": "text/x-python",
   "name": "python",
   "nbconvert_exporter": "python",
   "pygments_lexer": "ipython3",
   "version": "3.11.8"
  }
 },
 "nbformat": 4,
 "nbformat_minor": 2
}
